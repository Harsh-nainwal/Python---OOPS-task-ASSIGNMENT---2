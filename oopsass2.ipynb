{
 "cells": [
  {
   "cell_type": "markdown",
   "id": "71a78ddf-fb42-4113-8fd6-1940f016dc0c",
   "metadata": {},
   "source": [
    "Q1. What is Abstraction in OOps? Explain with an example.\n",
    "\n",
    "Ans - Abstraction can be defined as the blueprint/skeleton of a class.Abstraction helps in managing complexity by breaking down a system into smaller, more manageable parts. The methods in abstraction class can be used and modified according to each respective class. For example : "
   ]
  },
  {
   "cell_type": "code",
   "execution_count": 1,
   "id": "2d463cc7-11c2-485e-9057-3897b8fed37b",
   "metadata": {},
   "outputs": [],
   "source": [
    "import abc\n",
    "class test():\n",
    "    \n",
    "    @abc.abstractmethod\n",
    "    def student_details(self):\n",
    "        pass\n",
    "    \n",
    "    @abc.abstractmethod\n",
    "    def student_marks(self):\n",
    "        pass"
   ]
  },
  {
   "cell_type": "code",
   "execution_count": 2,
   "id": "1adff6d9-4aa3-4c15-95d8-c2fcf029a861",
   "metadata": {},
   "outputs": [],
   "source": [
    "class test1(test):\n",
    "    \n",
    "    def student_details(self):\n",
    "        return \"Here are my details\"\n",
    "    \n",
    "    def student_marks(self):\n",
    "        return \"Here are my marks\""
   ]
  },
  {
   "cell_type": "code",
   "execution_count": 3,
   "id": "34a983a1-8f8f-4c9d-8113-48df1dbaad72",
   "metadata": {},
   "outputs": [],
   "source": [
    "class test2(test):\n",
    "    \n",
    "    def student_details(self):\n",
    "        return \"Here are my more details...\"\n",
    "    \n",
    "    def student_marks(self):\n",
    "        return \"Here are my improved marks...\""
   ]
  },
  {
   "cell_type": "code",
   "execution_count": 4,
   "id": "8771b06a-b467-4cde-b048-53e43b1bb6d8",
   "metadata": {},
   "outputs": [],
   "source": [
    "pw1 = test1()"
   ]
  },
  {
   "cell_type": "code",
   "execution_count": 5,
   "id": "ba885562-9435-4880-ba3d-6e3c4b6046e8",
   "metadata": {},
   "outputs": [
    {
     "data": {
      "text/plain": [
       "'Here are my details'"
      ]
     },
     "execution_count": 5,
     "metadata": {},
     "output_type": "execute_result"
    }
   ],
   "source": [
    "pw1.student_details()"
   ]
  },
  {
   "cell_type": "code",
   "execution_count": 6,
   "id": "e4689f40-6fb5-4a04-a6d3-20a358874f33",
   "metadata": {},
   "outputs": [],
   "source": [
    "pw2 = test2()"
   ]
  },
  {
   "cell_type": "code",
   "execution_count": 7,
   "id": "226a4818-4ef5-4bf9-abbc-da4756835184",
   "metadata": {},
   "outputs": [
    {
     "data": {
      "text/plain": [
       "'Here are my more details...'"
      ]
     },
     "execution_count": 7,
     "metadata": {},
     "output_type": "execute_result"
    }
   ],
   "source": [
    "pw2.student_details()"
   ]
  },
  {
   "cell_type": "markdown",
   "id": "f85d580b-9895-430d-b442-4a7915655431",
   "metadata": {},
   "source": [
    "Q2. Differentiate between Abstraction and Encapsulation. Explain with an example.\n",
    "\n",
    "Ans - Abstraction focuses on representing the essential features of an object while hiding unnecessary details. It allows you to create abstract models that capture the core characteristics and behaviors of real-world entities. Example given in question 1.\n",
    "\n",
    "Encapsulation is the practice of bundling data and related behaviors together within a class. It helps in achieving data hiding and providing controlled access to the data. Encapsulation ensures that the internal state of an object is protected and can only be accessed through well-defined methods, hiding the implementation details from the outside world. Example : "
   ]
  },
  {
   "cell_type": "code",
   "execution_count": 1,
   "id": "2922abd3-525a-4693-99c0-3d974f7fca5d",
   "metadata": {},
   "outputs": [],
   "source": [
    "class testing:\n",
    "    \n",
    "    def __init__(self, name, marks, ids):\n",
    "        self.name = name\n",
    "        self.marks = marks\n",
    "        self.__ids = ids\n",
    "        \n",
    "    def get_name(self):\n",
    "        return self.name\n",
    "    \n",
    "    def get_marks(self):\n",
    "        return self.marks\n",
    "    \n",
    "    def get_id(self):\n",
    "        return self.__ids"
   ]
  },
  {
   "cell_type": "code",
   "execution_count": 2,
   "id": "edb61a27-b3f6-4309-90ba-79b670c52af6",
   "metadata": {},
   "outputs": [],
   "source": [
    "pw = testing(\"Shashi Kant Sharma\", 50, 41)"
   ]
  },
  {
   "cell_type": "code",
   "execution_count": 3,
   "id": "6ed7b9fc-14b3-480f-acfb-e33325232071",
   "metadata": {},
   "outputs": [
    {
     "data": {
      "text/plain": [
       "50"
      ]
     },
     "execution_count": 3,
     "metadata": {},
     "output_type": "execute_result"
    }
   ],
   "source": [
    "pw.marks"
   ]
  },
  {
   "cell_type": "code",
   "execution_count": 5,
   "id": "554de55a-b052-4372-a5e9-83af897a6c48",
   "metadata": {},
   "outputs": [
    {
     "data": {
      "text/plain": [
       "'Shashi Kant Sharma'"
      ]
     },
     "execution_count": 5,
     "metadata": {},
     "output_type": "execute_result"
    }
   ],
   "source": [
    "pw.name"
   ]
  },
  {
   "cell_type": "code",
   "execution_count": 6,
   "id": "27e83dfe-602a-4afd-ac30-89933e597b10",
   "metadata": {},
   "outputs": [
    {
     "ename": "AttributeError",
     "evalue": "'testing' object has no attribute 'ids'",
     "output_type": "error",
     "traceback": [
      "\u001b[0;31m---------------------------------------------------------------------------\u001b[0m",
      "\u001b[0;31mAttributeError\u001b[0m                            Traceback (most recent call last)",
      "Cell \u001b[0;32mIn[6], line 1\u001b[0m\n\u001b[0;32m----> 1\u001b[0m \u001b[43mpw\u001b[49m\u001b[38;5;241;43m.\u001b[39;49m\u001b[43mids\u001b[49m\n",
      "\u001b[0;31mAttributeError\u001b[0m: 'testing' object has no attribute 'ids'"
     ]
    }
   ],
   "source": [
    "pw.ids"
   ]
  },
  {
   "cell_type": "markdown",
   "id": "3cbe8bb9-c76f-4583-b1f1-fe44a6c021c3",
   "metadata": {},
   "source": [
    "Here, encapsulation occurs, the ids is set private so that no user can see it or modify it but if someone wants \n",
    "to see their id, they have to call a function."
   ]
  },
  {
   "cell_type": "code",
   "execution_count": 7,
   "id": "a2ac9915-c120-46a3-9991-d4bca7488db1",
   "metadata": {},
   "outputs": [
    {
     "data": {
      "text/plain": [
       "41"
      ]
     },
     "execution_count": 7,
     "metadata": {},
     "output_type": "execute_result"
    }
   ],
   "source": [
    "pw.get_id()"
   ]
  },
  {
   "cell_type": "markdown",
   "id": "0de5847c-f6e6-4384-9653-01e2cb939f04",
   "metadata": {},
   "source": [
    "Q3. What is abc module in python? Why is it used?\n",
    "\n",
    "Ans - The abc module in Python stands for \"Abstract Base Classes.\" It provides mechanisms for defining abstract base classes in Python. An abstract base class is a class that cannot be instantiated directly and is meant to serve as a blueprint for derived classes.\n",
    "\n",
    "The abc module is used to import method abstractmethod which is used to make the class as abstract class. It can be done by writing @abc.abstractmethod before each function in the abstract class."
   ]
  },
  {
   "cell_type": "markdown",
   "id": "3863d849-823a-4cc1-993e-9e208b03d326",
   "metadata": {},
   "source": [
    "Q4. How can we achieve data abstraction?\n",
    "\n",
    "Ans - Data abstraction in python can be achieved by using classes and objects. By using abc module we can import the 'abstractmethod' which helps in data abstraction."
   ]
  },
  {
   "cell_type": "markdown",
   "id": "89f7012e-bafc-4eeb-8cf9-e39de6d2dbce",
   "metadata": {},
   "source": [
    "Q5. Can we create an instance of an abstract class? Explain your answer.\n",
    "\n",
    "Ans - No, we cannot create the instance of an abstract class because abstract class is just a blueprint of the class. For example : "
   ]
  }
 ],
 "metadata": {
  "kernelspec": {
   "display_name": "Python 3 (ipykernel)",
   "language": "python",
   "name": "python3"
  },
  "language_info": {
   "codemirror_mode": {
    "name": "ipython",
    "version": 3
   },
   "file_extension": ".py",
   "mimetype": "text/x-python",
   "name": "python",
   "nbconvert_exporter": "python",
   "pygments_lexer": "ipython3",
   "version": "3.10.8"
  }
 },
 "nbformat": 4,
 "nbformat_minor": 5
}
